{
 "cells": [
  {
   "cell_type": "code",
   "execution_count": 18,
   "id": "6fc55ff3",
   "metadata": {},
   "outputs": [],
   "source": [
    "import torch\n",
    "import numpy as np\n",
    "import matplotlib.pyplot as plt"
   ]
  },
  {
   "cell_type": "code",
   "execution_count": 19,
   "id": "c6df2c26",
   "metadata": {},
   "outputs": [],
   "source": [
    "precision_matrices = torch.load(\"../checkpoints/precision_matrices_hq.pt\")\n",
    "\n",
    "fairseq_ckpt = torch.load(\"../checkpoints/checkpoint_best.pt\")\n",
    "fairseq_model_dict = dict(fairseq_ckpt[\"model\"])"
   ]
  },
  {
   "cell_type": "code",
   "execution_count": 20,
   "id": "227470cc",
   "metadata": {},
   "outputs": [
    {
     "name": "stdout",
     "output_type": "stream",
     "text": [
      "total tensor(124545, device='cuda:0')\n"
     ]
    }
   ],
   "source": [
    "total, k = 0, 5\n",
    "masks = {}\n",
    "\n",
    "for n in precision_matrices.keys():\n",
    "    if fairseq_model_dict[n].dim() == 2 and (\"embed\" not in n):\n",
    "        p = precision_matrices[n]\n",
    "        u, s = torch.mean(p), torch.std(p)\n",
    "        p_msk = (p > (u + k*s))\n",
    "        total += p_msk.sum()\n",
    "        masks[n] = p_msk\n",
    "        \n",
    "print(\"total\", total)\n",
    "\n",
    "torch.save(masks, \"../checkpoints/masks.pt\")"
   ]
  },
  {
   "cell_type": "code",
   "execution_count": 21,
   "id": "b7e57885",
   "metadata": {},
   "outputs": [],
   "source": [
    "# for n in precision_matrices.keys():\n",
    "#     if fairseq_model_dict[n].dim() == 2:\n",
    "#         fig, ax = plt.subplots(2, 3, figsize=(10, 10))\n",
    "#         p1_og = precision_matrices[n].cpu().numpy()\n",
    "\n",
    "#         try:\n",
    "#             p1 = np.log(precision_matrices[n].cpu().numpy())\n",
    "#             u1, s1, mx1, mn1 = p1.mean(), p1.std(), p1.max(), p1.min()\n",
    "            \n",
    "#             pixel_plot1 = ax[0, 0].imshow(\n",
    "#                 p1, \n",
    "#                 cmap=\"hot\",\n",
    "#                 origin='lower'\n",
    "#             )\n",
    "#             plt.colorbar(pixel_plot1, orientation=('vertical' if (n.endswith(\"fc1.weight\") or n.endswith(\"embed_tokens.weight\")) else 'horizontal'), ax=ax[0, 0])\n",
    "#             ax[0, 0].set_title(f\"{n}\\n\\nMean: {u1}\\nStd: {s1}\\nMax: {mx1}\\nMin: {mn1}\", fontsize=10)\n",
    "\n",
    "#             p1_flat = p1.flatten()\n",
    "#             ax[1, 0].hist(p1_flat, bins=\"auto\")\n",
    "#             ax[1, 0].axvline(p1_flat.mean(), color='r', linestyle=\"--\")\n",
    "#             ax[1, 0].set_xlabel(\"log(p)\")\n",
    "#             ax[1, 0].set_title(f\"Distribution of parameters in precision-matrix of\\n{n}\", fontsize=10)\n",
    "#         except ValueError:\n",
    "#             pass\n",
    "        \n",
    "#         ###########################################################################################################################\n",
    "\n",
    "#         p2 = fairseq_model_dict[n].cpu().numpy()\n",
    "#         u2, s2, mx2, mn2 = p2.mean(), p2.std(), p2.max(), p2.min()\n",
    "#         pixel_plot2 = ax[0, 1].imshow(\n",
    "#             p2, \n",
    "#             cmap=\"hot\",\n",
    "#             origin='lower'\n",
    "#         )\n",
    "#         plt.colorbar(pixel_plot2, orientation=('vertical' if (n.endswith(\"fc1.weight\") or n.endswith(\"embed_tokens.weight\")) else 'horizontal'), ax=ax[0, 1])\n",
    "#         ax[0, 1].set_title(f\"{n}\\n\\nMean: {u2}\\nStd: {s2}\\nMax: {mx2}\\nMin: {mn2}\", fontsize=10)\n",
    "\n",
    "#         p2_flat = p2.flatten()\n",
    "#         ax[1, 1].hist(p2_flat, bins=\"auto\")\n",
    "#         ax[1, 1].axvline(p2_flat.mean(), color='r', linestyle=\"--\")\n",
    "#         ax[1, 1].set_title(f\"Distribution of parameters in\\n{n}\", fontsize=10)\n",
    "    \n",
    "#         ###########################################################################################################################\n",
    "\n",
    "#         p2_p1 = p1_og * p2\n",
    "#         pixel_plot3 = ax[0, 2].imshow(\n",
    "#             p2_p1, \n",
    "#             cmap=\"hot\",\n",
    "#             origin='lower'\n",
    "#         )\n",
    "#         plt.colorbar(pixel_plot3, orientation=('vertical' if (n.endswith(\"fc1.weight\") or n.endswith(\"embed_tokens.weight\")) else 'horizontal'), ax=ax[0, 2])\n",
    "\n",
    "#         p2_p1_flat = p2_p1.flatten()\n",
    "#         ax[1, 2].hist(p2_flat, bins=\"auto\")\n",
    "#         ax[1, 2].axvline(p2_p1_flat.mean(), color='r', linestyle=\"--\")\n",
    "\n",
    "\n",
    "#         # msk_lo = p1 < u1\n",
    "#         # msk_mid = (p1 >= u1) & (p1 <= (u1 + 10*s1))\n",
    "#         # msk_hi = p1 > (u1 + 10*s1)\n",
    "\n",
    "#         # p2[msk_lo] = -1\n",
    "#         # p2[msk_mid] = 0\n",
    "#         # p2[msk_hi] = 1\n",
    "\n",
    "#         # pixel_plot3 = ax3.imshow(\n",
    "#         #     p2, \n",
    "#         #     cmap=\"hot\",\n",
    "#         #     origin='lower'\n",
    "#         # )\n",
    "#         # plt.colorbar(pixel_plot3, orientation=('vertical' if n.endswith(\"fc1.weight\") else 'horizontal'), ax=ax3)\n",
    "#         # ax3.set_title(f\"Parameter importance\", fontsize=10)\n",
    "        \n",
    "#         plt.tight_layout()\n",
    "#         plt.show()"
   ]
  },
  {
   "cell_type": "code",
   "execution_count": null,
   "id": "47795f42",
   "metadata": {},
   "outputs": [],
   "source": []
  }
 ],
 "metadata": {
  "kernelspec": {
   "display_name": "Python 3 (ipykernel)",
   "language": "python",
   "name": "python3"
  },
  "language_info": {
   "codemirror_mode": {
    "name": "ipython",
    "version": 3
   },
   "file_extension": ".py",
   "mimetype": "text/x-python",
   "name": "python",
   "nbconvert_exporter": "python",
   "pygments_lexer": "ipython3",
   "version": "3.10.9"
  },
  "vscode": {
   "interpreter": {
    "hash": "e7370f93d1d0cde622a1f8e1c04877d8463912d04d973331ad4851f04de6915a"
   }
  }
 },
 "nbformat": 4,
 "nbformat_minor": 5
}
