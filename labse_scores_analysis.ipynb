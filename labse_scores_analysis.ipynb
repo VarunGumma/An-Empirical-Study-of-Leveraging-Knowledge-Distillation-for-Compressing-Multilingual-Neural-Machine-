{
 "cells": [
  {
   "cell_type": "code",
   "execution_count": 5,
   "id": "b1c2f373",
   "metadata": {},
   "outputs": [],
   "source": [
    "import matplotlib.pyplot as plt\n",
    "from os import listdir\n",
    "import numpy as np\n",
    "plt.style.use(\"seaborn\")"
   ]
  },
  {
   "cell_type": "code",
   "execution_count": 8,
   "id": "3062601a",
   "metadata": {},
   "outputs": [
    {
     "name": "stdout",
     "output_type": "stream",
     "text": [
      "as:\n",
      "> 0.9 -- 0.129\n",
      "> u + 0.75s -- 0.196\n",
      "\n",
      "bn:\n",
      "> 0.9 -- 0.194\n",
      "> u + 0.75s -- 0.199\n",
      "\n",
      "gu:\n",
      "> 0.9 -- 0.217\n",
      "> u + 0.75s -- 0.210\n",
      "\n",
      "hi:\n",
      "> 0.9 -- 0.247\n",
      "> u + 0.75s -- 0.194\n",
      "\n",
      "kn:\n",
      "> 0.9 -- 0.206\n",
      "> u + 0.75s -- 0.219\n",
      "\n",
      "ml:\n",
      "> 0.9 -- 0.207\n",
      "> u + 0.75s -- 0.213\n",
      "\n",
      "mr:\n",
      "> 0.9 -- 0.205\n",
      "> u + 0.75s -- 0.220\n",
      "\n",
      "or:\n",
      "> 0.9 -- 0.210\n",
      "> u + 0.75s -- 0.226\n",
      "\n",
      "pa:\n",
      "> 0.9 -- 0.299\n",
      "> u + 0.75s -- 0.211\n",
      "\n",
      "ta:\n",
      "> 0.9 -- 0.195\n",
      "> u + 0.75s -- 0.199\n",
      "\n",
      "te:\n",
      "> 0.9 -- 0.201\n",
      "> u + 0.75s -- 0.222\n",
      "\n",
      "10.794403M 49.774246M\n",
      "Aggregate percentage of HQ data (> 0.9): 0.217\n",
      "\n",
      "10.312433M 49.774246M\n",
      "Aggregate percentage of HQ data (> u + 0.75s): 0.207\n",
      "\n"
     ]
    }
   ],
   "source": [
    "base_path = \"../v2_distilled_indic_en\"\n",
    "hq_total1, hq_total2, total = 0, 0, 0\n",
    "\n",
    "for lang_pair in sorted(listdir(base_path)):\n",
    "    lang = lang_pair.split('-')[1]\n",
    "    print(f\"{lang}:\")\n",
    "    with open(f\"{base_path}/{lang_pair}/scores.txt\") as f:\n",
    "        data = np.array([float(a) for a in f.readlines()])\n",
    "    u, s = np.mean(data), np.std(data)\n",
    "\n",
    "    hq_len1 = np.sum(data > 0.9)\n",
    "    hq_len2 = np.sum(data > u + 0.75*s)\n",
    "    hq_total1 += hq_len1\n",
    "    hq_total2 += hq_len2\n",
    "    total += len(data)\n",
    "    print(f\"> 0.9 -- {(hq_len1/len(data)):.3f}\")\n",
    "    print(f\"> u + 0.75s -- {(hq_len2/len(data)):.3f}\\n\")\n",
    "    # plot\n",
    "    # plt.hist(data, bins=\"auto\")\n",
    "    # plt.axvline(x=u, color='r')\n",
    "    # plt.axvline(x=(0.9), color='m')\n",
    "    # plt.title(f\"{lang} -- Mean: {u:.3f}, Std: {s:.3f}\\nHQ% with > : {(hq_len/len(data)):.3f}\")\n",
    "    # plt.show()\n",
    "\n",
    "print(f\"{hq_total1/1000000}M {total/1000000}M\")\n",
    "print(f\"Aggregate percentage of HQ data (> 0.9): {(hq_total1/total):.3f}\\n\")\n",
    "\n",
    "print(f\"{hq_total2/1000000}M {total/1000000}M\")\n",
    "print(f\"Aggregate percentage of HQ data (> u + 0.75s): {(hq_total2/total):.3f}\\n\")"
   ]
  },
  {
   "cell_type": "code",
   "execution_count": null,
   "id": "dfef16d5",
   "metadata": {},
   "outputs": [],
   "source": []
  }
 ],
 "metadata": {
  "kernelspec": {
   "display_name": "Python 3.10.6 ('itdv2')",
   "language": "python",
   "name": "python3"
  },
  "language_info": {
   "codemirror_mode": {
    "name": "ipython",
    "version": 3
   },
   "file_extension": ".py",
   "mimetype": "text/x-python",
   "name": "python",
   "nbconvert_exporter": "python",
   "pygments_lexer": "ipython3",
   "version": "3.10.6"
  },
  "vscode": {
   "interpreter": {
    "hash": "6f9ce3c3d0cdfd5115e1ee96178ecec66546d837380537e7a3ebd5e870cd461e"
   }
  }
 },
 "nbformat": 4,
 "nbformat_minor": 5
}
