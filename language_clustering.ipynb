{
 "cells": [
  {
   "cell_type": "code",
   "execution_count": null,
   "metadata": {},
   "outputs": [],
   "source": [
    "import torch\n",
    "import numpy as np\n",
    "from transformers import AutoModel, AutoTokenizer\n",
    "from random import sample\n",
    "from tqdm import tqdm\n",
    "from os import listdir\n",
    "from sklearn.mixture import GaussianMixture\n",
    "from sklearn.cluster import KMeans\n",
    "from sklearn.decomposition import PCA\n",
    "from sklearn.manifold import TSNE\n",
    "from collections import Counter\n",
    "import matplotlib.pyplot as plt\n",
    "plt.style.use(\"ggplot\")\n",
    "\n",
    "model_name = 'xlm-roberta-base'\n",
    "device = \"cuda\" if torch.cuda.is_available() else \"cpu\"\n",
    "# base_path = \"benchmarks/flores101_dataset\"\n",
    "base_path = \"../data_dir/v2\"\n",
    "\n",
    "num_sentences = 10000\n",
    "num_tokens_per_sentence = 210\n",
    "num_groups = 5"
   ]
  },
  {
   "cell_type": "code",
   "execution_count": null,
   "metadata": {},
   "outputs": [],
   "source": [
    "def data_generator(data, bs=1024):\n",
    "    i, n = 0, len(data)\n",
    "    while i < n:\n",
    "        j = min(n, i + bs)\n",
    "        yield data[i : j]\n",
    "        i = j"
   ]
  },
  {
   "cell_type": "code",
   "execution_count": null,
   "metadata": {},
   "outputs": [],
   "source": [
    "def encode_with_transformers(corpus):\n",
    "    print(f'encoding with {model_name}...')\n",
    "    states = None\n",
    "\n",
    "    # Load pretrained model/tokenizer\n",
    "    tokenizer = AutoTokenizer.from_pretrained(model_name, use_fast=True)\n",
    "    model = AutoModel.from_pretrained(model_name).to(device)\n",
    "\n",
    "    for sentences in tqdm(data_generator(corpus)):\n",
    "        input_ids = tokenizer(\n",
    "            sentences, \n",
    "            padding=\"max_length\",\n",
    "            add_special_tokens=True, \n",
    "            max_length=num_tokens_per_sentence,\n",
    "            truncation=True\n",
    "        )\n",
    "\n",
    "        encoded_input_ids = torch.LongTensor(input_ids[\"input_ids\"]).to(device)\n",
    "        attn_mask = torch.BoolTensor(input_ids[\"attention_mask\"]).to(device)\n",
    "\n",
    "        with torch.no_grad():\n",
    "            output = model(encoded_input_ids, attn_mask).pooler_output\n",
    "            states = output if states is None else torch.cat((states, output))\n",
    "            \n",
    "    return states.cpu().numpy()"
   ]
  },
  {
   "cell_type": "code",
   "execution_count": null,
   "metadata": {},
   "outputs": [],
   "source": [
    "data, lang_list, lang_enum = [], [], []\n",
    "\n",
    "for i, lang_pair in enumerate(sorted(listdir(base_path))):\n",
    "    lang = lang_pair.split('-')[1]\n",
    "    lang_list.append(lang)\n",
    "    with open(f\"{base_path}/{lang_pair}/train.{lang}\", 'r', encoding=\"utf-8\") as f:\n",
    "        x = f.readlines()\n",
    "        k = min(len(x), num_sentences)\n",
    "        data.extend(sample(x, k=k))\n",
    "        lang_enum.extend([i]*k)\n",
    "\n",
    "lang_enum = np.array(lang_enum)\n",
    "\n",
    "embeddings_ = encode_with_transformers(data)"
   ]
  },
  {
   "cell_type": "code",
   "execution_count": null,
   "metadata": {},
   "outputs": [],
   "source": [
    "utils = [\n",
    "    ['*', 'red', 'as'],\n",
    "    ['+', 'gold', 'bn'],\n",
    "    ['^', 'darkgreen', 'gu'],\n",
    "    ['d', 'saddlebrown', 'hi'],\n",
    "    ['s', 'cyan', 'kn'],\n",
    "    ['p', 'magenta', 'ml'],\n",
    "    ['h', 'lime', 'mr'],\n",
    "    ['o', 'blueviolet', 'or'],\n",
    "    ['x', 'slategray', 'pa'],\n",
    "    ['D', 'lightpink', 'ta'],\n",
    "    ['1', 'darkkhaki', 'te'],\n",
    "]\n",
    "\n",
    "embeddings = TSNE(\n",
    "    n_components=2,\n",
    "    init=\"pca\", \n",
    "    n_jobs=-1,\n",
    "    learning_rate='auto',\n",
    ").fit_transform(embeddings_)\n",
    "\n",
    "fig = plt.figure(figsize=(10,10), dpi=1200)\n",
    "ax = plt.subplot(111)\n",
    "\n",
    "for i, D in enumerate(data_generator(embeddings, embeddings.shape[0]//len(utils))):\n",
    "    ax.scatter(\n",
    "        D[:,0], \n",
    "        D[:,1], \n",
    "        marker=utils[i][0], \n",
    "        color=utils[i][1],\n",
    "        label=utils[i][2]\n",
    "    )\n",
    "    \n",
    "ax.set_title(\"languages TSNE plot\")\n",
    "box = ax.get_position()\n",
    "ax.set_position([box.x0, box.y0, box.width*0.95, box.height])\n",
    "ax.legend(loc='center left', bbox_to_anchor=(1, 0.5))\n",
    "plt.show()"
   ]
  },
  {
   "cell_type": "code",
   "execution_count": null,
   "metadata": {},
   "outputs": [],
   "source": [
    "pca = PCA(n_components=0.99, svd_solver='full')\n",
    "embeddings = pca.fit_transform(embeddings_)\n",
    "print(pca.n_components_, pca.explained_variance_ratio_.sum())"
   ]
  },
  {
   "cell_type": "code",
   "execution_count": null,
   "metadata": {},
   "outputs": [],
   "source": [
    "# classes = GaussianMixture(\n",
    "#     n_components=num_groups, \n",
    "#     covariance_type='full',\n",
    "#     init_params='k-means++', \n",
    "#     n_init=100, \n",
    "#     max_iter=5000\n",
    "# ).fit_predict(embeddings)\n",
    "\n",
    "classes = KMeans(\n",
    "    n_clusters=num_groups, \n",
    "    init='k-means++', \n",
    "    n_init=200, \n",
    "    max_iter=5000\n",
    ").fit_predict(embeddings)\n",
    "\n",
    "print(classes)\n",
    "print(Counter(classes))"
   ]
  },
  {
   "cell_type": "code",
   "execution_count": null,
   "metadata": {},
   "outputs": [],
   "source": [
    "for i in range(num_groups):\n",
    "    mask = (classes == i)\n",
    "    cluster_sz = mask.sum()\n",
    "    full_cluster_info = Counter([lang_list[x] for x in lang_enum[mask]])\n",
    "    full_cluster_info = dict(sorted(full_cluster_info.items()))\n",
    "    full_cluster_info = {k:v/cluster_sz for k, v in full_cluster_info.items() if v/cluster_sz > 0.1}\n",
    "    print(f\"cluster-{i} --> {','.join(full_cluster_info.keys())} ---> {full_cluster_info}\")\n",
    "    # cluster_data_points = ''.join([data[x] for x in np.where(classes == i)[0]])\n",
    "    # print(cluster_data_points)"
   ]
  }
 ],
 "metadata": {
  "kernelspec": {
   "display_name": "base",
   "language": "python",
   "name": "python3"
  },
  "language_info": {
   "codemirror_mode": {
    "name": "ipython",
    "version": 3
   },
   "file_extension": ".py",
   "mimetype": "text/x-python",
   "name": "python",
   "nbconvert_exporter": "python",
   "pygments_lexer": "ipython3",
   "version": "3.9.12"
  },
  "vscode": {
   "interpreter": {
    "hash": "a390344dcc6edb6b99643b4d560f548f79ff380ada009f92131749a0124bf6cb"
   }
  }
 },
 "nbformat": 4,
 "nbformat_minor": 2
}
